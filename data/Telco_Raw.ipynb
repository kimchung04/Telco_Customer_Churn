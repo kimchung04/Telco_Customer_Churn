{
 "cells": [
  {
   "cell_type": "code",
   "execution_count": 1,
   "id": "de51d50d",
   "metadata": {},
   "outputs": [
    {
     "name": "stderr",
     "output_type": "stream",
     "text": [
      "C:\\Users\\chris\\AppData\\Local\\Temp\\ipykernel_50340\\564703637.py:5: DeprecationWarning: `import pandas_profiling` is going to be deprecated by April 1st. Please use `import ydata_profiling` instead.\n",
      "  import pandas_profiling\n"
     ]
    }
   ],
   "source": [
    "import numpy as np\n",
    "import pandas as pd\n",
    "import matplotlib.pyplot as plt\n",
    "import seaborn as sns\n",
    "import pandas_profiling \n",
    "import plotly.offline as po\n",
    "import plotly.graph_objs as go\n",
    "%matplotlib inline"
   ]
  },
  {
   "cell_type": "code",
   "execution_count": null,
   "id": "3c9372bb",
   "metadata": {},
   "outputs": [
    {
     "data": {
      "application/vnd.jupyter.widget-view+json": {
       "model_id": "62e291229ecc457f8e686c35fb77e7ae",
       "version_major": 2,
       "version_minor": 0
      },
      "text/plain": [
       "Summarize dataset:   0%|          | 0/5 [00:00<?, ?it/s]"
      ]
     },
     "metadata": {},
     "output_type": "display_data"
    }
   ],
   "source": [
    "# Perform exploratory data analysis \n",
    "from pandas_profiling import profile_report\n",
    "pandas_profiling.ProfileReport(pd.read_csv('WA_Fn-UseC_-Telco-Customer-Churn.csv'))"
   ]
  },
  {
   "cell_type": "code",
   "execution_count": null,
   "id": "9634f599",
   "metadata": {},
   "outputs": [],
   "source": [
    "# Import customer churn dataset\n",
    "churn_dataset = pd.read_csv('WA_Fn-UseC_-Telco-Customer-Churn.csv')"
   ]
  },
  {
   "cell_type": "code",
   "execution_count": null,
   "id": "2ab65bd6",
   "metadata": {},
   "outputs": [],
   "source": [
    "# Number of columns and rows in the dataset\n",
    "churn_dataset.shape"
   ]
  },
  {
   "cell_type": "code",
   "execution_count": null,
   "id": "908b9201",
   "metadata": {},
   "outputs": [],
   "source": [
    "# Convert string values (yes and no) of churn column to 1 and 0\n",
    "churn_dataset.loc[churn_dataset.Churn == 'No', 'Churn'] = 0\n",
    "churn_dataset.loc[churn_dataset.Churn == 'Yes', 'Churn'] = 1"
   ]
  },
  {
   "cell_type": "code",
   "execution_count": null,
   "id": "1e1c220e",
   "metadata": {},
   "outputs": [],
   "source": [
    "#Convert 'no internet service' to No to the below mentioned columns\n",
    "cols = ['OnlineBackup', 'StreamingMovies', 'DeviceProtection',\n",
    "            'TechSupport', 'OnlineSecurity','StreamingTV']\n",
    "for i in cols :\n",
    "    churn_dataset[i] = churn_dataset[i].replace({'No internet service' : 'No'})"
   ]
  },
  {
   "cell_type": "code",
   "execution_count": null,
   "id": "db05536c",
   "metadata": {},
   "outputs": [],
   "source": [
    "# Replace all the spaces with null values\n",
    "churn_dataset['TotalCharges'] = churn_dataset[\"TotalCharges\"].replace(\" \",np.nan)\n",
    "\n",
    "# Drop null values of 'Total Charges' feature\n",
    "churn_dataset = churn_dataset[churn_dataset[\"TotalCharges\"].notnull()]\n",
    "churn_dataset = churn_dataset.reset_index()[churn_dataset.columns]\n",
    "\n",
    "# Convert 'Total Charges' column values to float data type\n",
    "churn_dataset[\"TotalCharges\"] = churn_dataset[\"TotalCharges\"].astype(float)"
   ]
  },
  {
   "cell_type": "code",
   "execution_count": null,
   "id": "535a7309",
   "metadata": {},
   "outputs": [],
   "source": [
    "churn_dataset[\"Churn\"].value_counts().values"
   ]
  },
  {
   "cell_type": "code",
   "execution_count": null,
   "id": "4375738d",
   "metadata": {},
   "outputs": [],
   "source": [
    "# Visualize customer churn\n",
    "plot_by_churn_labels = churn_dataset[\"Churn\"].value_counts().keys().tolist()\n",
    "plot_by_churn_values = churn_dataset[\"Churn\"].value_counts().tolist()\n",
    "\n",
    "plot_data = [    go.Pie(labels = plot_by_churn_labels,           values = plot_by_churn_values,           hole = 0.6)]\n",
    "\n",
    "plot_layout = go.Layout(dict(title = 'Customer Churn',\n",
    "                             plot_bgcolor = 'rgb(243,243,243)',\n",
    "                             paper_bgcolor = 'rgb(243,243,243)',))\n",
    "fig = go.Figure(data = plot_data, layout = plot_layout)\n",
    "po.iplot(fig)"
   ]
  },
  {
   "cell_type": "code",
   "execution_count": null,
   "id": "500145f7",
   "metadata": {},
   "outputs": [],
   "source": [
    "# Visualize churn by gender\n",
    "plot_by_gender = churn_dataset.groupby('gender').Churn.mean().reset_index()\n",
    "plot_data = [    go.Bar(        x = plot_by_gender['gender'],\n",
    "        y = plot_by_gender['Churn'],\n",
    "        width = [0.3,0.3],\n",
    "        marker = dict(\n",
    "        color = ['orange','green'])\n",
    "    )\n",
    "]\n",
    "plot_layout = go.Layout(\n",
    "    xaxis = {'type': 'category'},\n",
    "    yaxis = {'title':'Churn Rate'},\n",
    "    title = 'Churn Rate by Gender',\n",
    "    plot_bgcolor = 'rgb(243,243,243)',\n",
    "    paper_bgcolor = 'rgb(243,243,243)',\n",
    ")\n",
    "fig = go.Figure(data = plot_data, layout = plot_layout)\n",
    "po.iplot(fig)"
   ]
  },
  {
   "cell_type": "code",
   "execution_count": null,
   "id": "1b8bcf26",
   "metadata": {},
   "outputs": [],
   "source": [
    "# Visualize churn rate by tech support\n",
    "plot_by_techsupport = churn_dataset.groupby('TechSupport').Churn.mean().reset_index()\n",
    "plot_data = [        go.Bar(                x = plot_by_techsupport['TechSupport'],\n",
    "        y = plot_by_techsupport['Churn'],\n",
    "        width = [0.3,0.3,0.3],\n",
    "        marker = dict(\n",
    "            color = ['orange','green','teal'])\n",
    "    )\n",
    "]\n",
    "plot_layout = go.Layout(\n",
    "    xaxis = {'type': 'category'},\n",
    "    yaxis = {'title':'Churn Rate'},\n",
    "    title = 'Churn Rate by Tech Support',\n",
    "    plot_bgcolor = 'rgb(243,243,243)',\n",
    "    paper_bgcolor = 'rgb(243,243,243)',\n",
    ")\n",
    "fig = go.Figure(data = plot_data, layout = plot_layout)\n",
    "po.iplot(fig)"
   ]
  },
  {
   "cell_type": "code",
   "execution_count": null,
   "id": "d2c01103",
   "metadata": {},
   "outputs": [],
   "source": [
    "# Visualize churn by internet service\n",
    "plot_by_internet_service = churn_dataset.groupby('InternetService').Churn.mean().reset_index()\n",
    "plot_data = [\n",
    "    go.Bar(\n",
    "        x = plot_by_internet_service['InternetService'],\n",
    "        y = plot_by_internet_service['Churn'],\n",
    "        width = [0.3,0.3,0.3],\n",
    "        marker = dict(\n",
    "        color = ['orange','green', 'teal'])\n",
    "    )\n",
    "]\n",
    "plot_layout = go.Layout(\n",
    "    xaxis = {'type': 'category'},\n",
    "    yaxis = {'title':'Churn Rate'},\n",
    "    title = 'Churn Rate by Internet Service',\n",
    "    plot_bgcolor = 'rgb(243,243,243)',\n",
    "    paper_bgcolor = 'rgb(243,243,243)',\n",
    ")\n",
    "fig = go.Figure(data = plot_data, layout = plot_layout)\n",
    "po.iplot(fig)"
   ]
  },
  {
   "cell_type": "code",
   "execution_count": null,
   "id": "e3b16cb3",
   "metadata": {},
   "outputs": [],
   "source": [
    "# Visualize churn by payment method\n",
    "plot_by_payment = churn_dataset.groupby('PaymentMethod').Churn.mean().reset_index()\n",
    "plot_data = [\n",
    "    go.Bar(\n",
    "        x = plot_by_payment['PaymentMethod'],\n",
    "        y = plot_by_payment['Churn'],\n",
    "        width = [0.3,0.3,0.3,0.3],\n",
    "        marker = dict(\n",
    "        color = ['orange','green', 'teal', 'magenta'])\n",
    "    )\n",
    "]\n",
    "plot_layout = go.Layout(\n",
    "    xaxis = {'type': 'category'},\n",
    "    yaxis = {'title':'Churn Rate'},\n",
    "    title = 'Churn Rate by Payment Method',\n",
    "    plot_bgcolor = 'rgb(243,243,243)',\n",
    "    paper_bgcolor = 'rgb(243,243,243)',\n",
    ")\n",
    "fig = go.Figure(data = plot_data, layout = plot_layout)\n",
    "po.iplot(fig)"
   ]
  },
  {
   "cell_type": "code",
   "execution_count": null,
   "id": "436d1045",
   "metadata": {},
   "outputs": [],
   "source": [
    "# Visualize churn by contract duration\n",
    "plot_by_contract = churn_dataset.groupby('Contract').Churn.mean().reset_index()\n",
    "plot_data = [\n",
    "    go.Bar(\n",
    "        x = plot_by_contract['Contract'],\n",
    "        y = plot_by_contract['Churn'],\n",
    "        width = [0.3,0.3,0.3],\n",
    "        marker = dict(\n",
    "        color = ['orange','green', 'teal'])\n",
    "    )\n",
    "]\n",
    "plot_layout = go.Layout(\n",
    "    xaxis = {'type': 'category'},\n",
    "    yaxis = {'title':'Churn Rate'},\n",
    "    title = 'Churn Rate by Contract Duration',\n",
    "    plot_bgcolor = 'rgb(243,243,243)',\n",
    "    paper_bgcolor = 'rgb(243,243,243)',\n",
    ")\n",
    "fig = go.Figure(data = plot_data, layout = plot_layout)\n",
    "po.iplot(fig)"
   ]
  },
  {
   "cell_type": "code",
   "execution_count": null,
   "id": "1176099d",
   "metadata": {},
   "outputs": [],
   "source": [
    "# Visualize relation between tenure and churn rate\n",
    "plot_by_tenure = churn_dataset.groupby('tenure').Churn.mean().reset_index()\n",
    "plot_data = [\n",
    "    go.Scatter(\n",
    "        x = plot_by_tenure['tenure'],\n",
    "        y = plot_by_tenure['Churn'],\n",
    "        mode = 'markers',\n",
    "        name = 'Low',\n",
    "        marker = dict(\n",
    "            size = 5,\n",
    "            line = dict(width = 0.8),\n",
    "        color = 'green'\n",
    "      )\n",
    "  )      \n",
    "]\n",
    "plot_layout = go.Layout(\n",
    "    xaxis = {'type': 'linear'},\n",
    "    yaxis = {'title':'Churn Rate'},\n",
    "    title = 'Relation Between Tenure and Churn Rate',\n",
    "    plot_bgcolor = 'rgb(243,243,243)',\n",
    "    paper_bgcolor = 'rgb(243,243,243)',\n",
    ")\n",
    "fig = go.Figure(data = plot_data, layout = plot_layout)\n",
    "po.iplot(fig)"
   ]
  },
  {
   "cell_type": "code",
   "execution_count": null,
   "id": "583b5bef",
   "metadata": {},
   "outputs": [],
   "source": [
    "#Perform One Hot Encoding using get_dummies method\n",
    "churn_dataset = pd.get_dummies(churn_dataset,columns = ['Contract','Dependents','DeviceProtection','gender',\n",
    "                                                        'InternetService','MultipleLines','OnlineBackup','OnlineSecurity',\n",
    "                                                        'PaperlessBilling','Partner','PaymentMethod','PhoneService',\n",
    "                                                        'SeniorCitizen','StreamingMovies','StreamingTV','TechSupport'],\n",
    "                              drop_first=True)"
   ]
  },
  {
   "cell_type": "code",
   "execution_count": null,
   "id": "bfb5535c",
   "metadata": {},
   "outputs": [],
   "source": [
    "#Perform Feature Scaling and One Hot Encoding\n",
    "from sklearn.preprocessing import StandardScaler\n",
    "\n",
    "#Perform Feature Scaling on 'tenure', 'MonthlyCharges', 'TotalCharges' in order to bring them on same scale\n",
    "standardScaler = StandardScaler()\n",
    "columns_for_ft_scaling = ['tenure', 'MonthlyCharges', 'TotalCharges']\n",
    "\n",
    "#Apply the feature scaling operation on dataset using fit_transform() method\n",
    "churn_dataset[columns_for_ft_scaling] = standardScaler.fit_transform(churn_dataset[columns_for_ft_scaling])"
   ]
  },
  {
   "cell_type": "code",
   "execution_count": null,
   "id": "45c9357b",
   "metadata": {},
   "outputs": [],
   "source": [
    "# See subset of values\n",
    "churn_dataset.head()"
   ]
  },
  {
   "cell_type": "code",
   "execution_count": null,
   "id": "1803c0c1",
   "metadata": {},
   "outputs": [],
   "source": [
    "#Number of columns increased and have suffixes attached, as a result of get_dummies method.\n",
    "churn_dataset.columns"
   ]
  },
  {
   "cell_type": "code",
   "execution_count": null,
   "id": "e1523f89",
   "metadata": {},
   "outputs": [],
   "source": [
    "#Create Feature variable X and Target variable y\n",
    "y = churn_dataset['Churn']\n",
    "X = churn_dataset.drop(['Churn','customerID'], axis = 1)"
   ]
  },
  {
   "cell_type": "code",
   "execution_count": null,
   "id": "4773944d",
   "metadata": {},
   "outputs": [],
   "source": [
    "#Split the data into training set (70%) and test set (30%)\n",
    "from sklearn.model_selection import train_test_split\n",
    "X_train, X_test, y_train, y_test = train_test_split(X, y, test_size = 0.30, random_state = 50)"
   ]
  },
  {
   "cell_type": "code",
   "execution_count": null,
   "id": "278a8ea1",
   "metadata": {},
   "outputs": [],
   "source": [
    "# Machine Learning classification model libraries\n",
    "from sklearn.linear_model import LogisticRegression\n",
    "from sklearn.neighbors import KNeighborsClassifier\n",
    "from sklearn.svm import SVC\n",
    "from sklearn.tree import DecisionTreeClassifier\n",
    "from sklearn.ensemble import RandomForestClassifier\n",
    "from sklearn import metrics"
   ]
  },
  {
   "cell_type": "code",
   "execution_count": null,
   "id": "f83ed3db",
   "metadata": {},
   "outputs": [],
   "source": [
    "#Fit the logistic Regression Model\n",
    "logmodel = LogisticRegression(random_state=50)\n",
    "logmodel.fit(X_train,y_train)\n",
    "\n",
    "#Predict the value for new, unseen data\n",
    "pred = logmodel.predict(X_test)\n",
    "\n",
    "# Find Accuracy using accuracy_score method\n",
    "logmodel_accuracy = round(metrics.accuracy_score(y_test, pred) * 100, 2)"
   ]
  },
  {
   "cell_type": "code",
   "execution_count": null,
   "id": "9706c977",
   "metadata": {},
   "outputs": [],
   "source": [
    "#Fit the Support Vector Machine Model\n",
    "svcmodel = SVC(kernel='linear', random_state=50, probability=True)\n",
    "svcmodel.fit(X_train,y_train)\n",
    "\n",
    "#Predict the value for new, unseen data\n",
    "svc_pred = svcmodel.predict(X_test)\n",
    "\n",
    "# Find Accuracy using accuracy_score method\n",
    "svc_accuracy = round(metrics.accuracy_score(y_test, svc_pred) * 100, 2)\n"
   ]
  },
  {
   "cell_type": "code",
   "execution_count": null,
   "id": "136fae99",
   "metadata": {},
   "outputs": [],
   "source": [
    "#Fit the K-Nearest Neighbor Model\n",
    "from sklearn.neighbors import KNeighborsClassifier\n",
    "knnmodel = KNeighborsClassifier(n_neighbors=5, metric='minkowski', p=2) #p=2 represents Euclidean distance, p=1 represents Manhattan Distance\n",
    "knnmodel.fit(X_train, y_train) \n",
    "  \n",
    "#Predict the value for new, unseen data\n",
    "knn_pred = knnmodel.predict(X_test)\n",
    "\n",
    "# Find Accuracy using accuracy_score method\n",
    "knn_accuracy = round(metrics.accuracy_score(y_test, knn_pred) * 100, 2)"
   ]
  },
  {
   "cell_type": "code",
   "execution_count": null,
   "id": "c801337d",
   "metadata": {},
   "outputs": [],
   "source": [
    "#Fit the Decision Tree Classification Model\n",
    "from sklearn.tree import DecisionTreeClassifier\n",
    "dtmodel = DecisionTreeClassifier(criterion = \"gini\", random_state = 50)\n",
    "dtmodel.fit(X_train, y_train) \n",
    "  \n",
    "#Predict the value for new, unseen data\n",
    "dt_pred = dtmodel.predict(X_test)\n",
    "\n",
    "# Find Accuracy using accuracy_score method\n",
    "dt_accuracy = round(metrics.accuracy_score(y_test, dt_pred) * 100, 2)"
   ]
  },
  {
   "cell_type": "code",
   "execution_count": null,
   "id": "26de4431",
   "metadata": {},
   "outputs": [],
   "source": [
    "#Fit the Random Forest Classification Model\n",
    "from sklearn.ensemble import RandomForestClassifier\n",
    "rfmodel = RandomForestClassifier(n_estimators = 100, criterion = 'entropy', random_state = 0)\n",
    "rfmodel.fit(X_train, y_train) \n",
    "  \n",
    "#Predict the value for new, unseen data\n",
    "rf_pred = rfmodel.predict(X_test)\n",
    "\n",
    "# Find Accuracy using accuracy_score method\n",
    "rf_accuracy = round(metrics.accuracy_score(y_test, rf_pred) * 100, 2)"
   ]
  },
  {
   "cell_type": "code",
   "execution_count": null,
   "id": "8cfa1c53",
   "metadata": {},
   "outputs": [],
   "source": [
    "# Compare Several models according to their Accuracies\n",
    "Model_Comparison = pd.DataFrame({\n",
    "    'Model': ['Logistic Regression', 'Support Vector Machine', 'K-Nearest Neighbor', \n",
    "              'Decision Tree', 'Random Forest'],\n",
    "    'Score': [logmodel_accuracy, svc_accuracy, knn_accuracy, \n",
    "              dt_accuracy, rf_accuracy]})\n",
    "Model_Comparison_df = Model_Comparison.sort_values(by='Score', ascending=False)\n",
    "Model_Comparison_df = Model_Comparison_df.set_index('Score')\n",
    "Model_Comparison_df.reset_index()"
   ]
  },
  {
   "cell_type": "code",
   "execution_count": null,
   "id": "9f4d1eb0",
   "metadata": {},
   "outputs": [],
   "source": [
    "#Generate confusion matrix for logistics regression model as it has maximum Accuracy\n",
    "from sklearn.metrics import confusion_matrix\n",
    "conf_mat_logmodel = confusion_matrix(y_test,pred)\n",
    "conf_mat_logmodel"
   ]
  },
  {
   "cell_type": "code",
   "execution_count": null,
   "id": "3c5a777b",
   "metadata": {},
   "outputs": [],
   "source": [
    "# Predict the probability of Churn of each customer\n",
    "churn_dataset['Probability_of_Churn'] = logmodel.predict_proba(churn_dataset[X_test.columns])[:,1]"
   ]
  },
  {
   "cell_type": "code",
   "execution_count": null,
   "id": "c5227f7a",
   "metadata": {},
   "outputs": [],
   "source": [
    "# Create a Dataframe showcasing probability of Churn of each customer\n",
    "churn_dataset[['customerID','Probability_of_Churn']].head()"
   ]
  },
  {
   "cell_type": "code",
   "execution_count": null,
   "id": "c6b8a099",
   "metadata": {},
   "outputs": [],
   "source": []
  },
  {
   "cell_type": "code",
   "execution_count": null,
   "id": "0bcbe020",
   "metadata": {},
   "outputs": [],
   "source": []
  }
 ],
 "metadata": {
  "kernelspec": {
   "display_name": "Python 3 (ipykernel)",
   "language": "python",
   "name": "python3"
  },
  "language_info": {
   "codemirror_mode": {
    "name": "ipython",
    "version": 3
   },
   "file_extension": ".py",
   "mimetype": "text/x-python",
   "name": "python",
   "nbconvert_exporter": "python",
   "pygments_lexer": "ipython3",
   "version": "3.9.12"
  }
 },
 "nbformat": 4,
 "nbformat_minor": 5
}
